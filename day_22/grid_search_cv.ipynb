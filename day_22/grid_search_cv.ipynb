{
 "cells": [
  {
   "cell_type": "code",
   "execution_count": 1,
   "metadata": {},
   "outputs": [
    {
     "name": "stdout",
     "output_type": "stream",
     "text": [
      "{'copy_X': True, 'fit_intercept': True, 'n_jobs': None, 'positive': False}\n"
     ]
    }
   ],
   "source": [
    "from sklearn.linear_model import LinearRegression\n",
    "# Create a model\n",
    "model = LinearRegression()\n",
    "\n",
    "# get a parameters list\n",
    "print(model.get_params())\n",
    "\n"
   ]
  },
  {
   "cell_type": "code",
   "execution_count": 6,
   "metadata": {},
   "outputs": [
    {
     "name": "stdout",
     "output_type": "stream",
     "text": [
      "{'ccp_alpha': 0.0, 'class_weight': None, 'criterion': 'gini', 'max_depth': None, 'max_features': None, 'max_leaf_nodes': None, 'min_impurity_decrease': 0.0, 'min_samples_leaf': 1, 'min_samples_split': 2, 'min_weight_fraction_leaf': 0.0, 'random_state': None, 'splitter': 'best'}\n"
     ]
    }
   ],
   "source": [
    "from sklearn.tree import DecisionTreeClassifier\n",
    "# Create a model\n",
    "model = DecisionTreeClassifier()\n",
    "\n",
    "# get a parameters list\n",
    "print(model.get_params())\n"
   ]
  },
  {
   "cell_type": "code",
   "execution_count": 3,
   "metadata": {},
   "outputs": [
    {
     "name": "stdout",
     "output_type": "stream",
     "text": [
      "{'bootstrap': True, 'ccp_alpha': 0.0, 'class_weight': None, 'criterion': 'gini', 'max_depth': None, 'max_features': 'sqrt', 'max_leaf_nodes': None, 'max_samples': None, 'min_impurity_decrease': 0.0, 'min_samples_leaf': 1, 'min_samples_split': 2, 'min_weight_fraction_leaf': 0.0, 'n_estimators': 100, 'n_jobs': None, 'oob_score': False, 'random_state': None, 'verbose': 0, 'warm_start': False}\n"
     ]
    }
   ],
   "source": [
    "from sklearn.ensemble import RandomForestClassifier\n",
    "# Create a model\n",
    "model = RandomForestClassifier()\n",
    "\n",
    "# get a parameters list\n",
    "print(model.get_params())\n"
   ]
  },
  {
   "cell_type": "code",
   "execution_count": 4,
   "metadata": {},
   "outputs": [
    {
     "name": "stdout",
     "output_type": "stream",
     "text": [
      "{'C': 1.0, 'break_ties': False, 'cache_size': 200, 'class_weight': None, 'coef0': 0.0, 'decision_function_shape': 'ovr', 'degree': 3, 'gamma': 'scale', 'kernel': 'rbf', 'max_iter': -1, 'probability': False, 'random_state': None, 'shrinking': True, 'tol': 0.001, 'verbose': False}\n"
     ]
    }
   ],
   "source": [
    "from sklearn.svm import SVC\n",
    "# Create a model\n",
    "model = SVC()\n",
    "\n",
    "# get a parameters list\n",
    "print(model.get_params())"
   ]
  },
  {
   "cell_type": "code",
   "execution_count": 5,
   "metadata": {},
   "outputs": [
    {
     "name": "stdout",
     "output_type": "stream",
     "text": [
      "{'algorithm': 'auto', 'leaf_size': 30, 'metric': 'minkowski', 'metric_params': None, 'n_jobs': None, 'n_neighbors': 5, 'p': 2, 'weights': 'uniform'}\n"
     ]
    }
   ],
   "source": [
    "from sklearn.neighbors import KNeighborsClassifier\n",
    "# Create a model\n",
    "model = KNeighborsClassifier()\n",
    "\n",
    "# get a parameters list\n",
    "print(model.get_params())"
   ]
  },
  {
   "cell_type": "code",
   "execution_count": 22,
   "metadata": {},
   "outputs": [
    {
     "name": "stdout",
     "output_type": "stream",
     "text": [
      "Best parameters:  {'fit_intercept': True}\n"
     ]
    }
   ],
   "source": [
    "# Linear Regression \n",
    "import pandas as pd\n",
    "import seaborn as sns\n",
    "df= sns.load_dataset('titanic')\n",
    "df['age']= df.age.fillna(df['age'].mean())\n",
    "X= df[['age']]\n",
    "y= df['fare']\n",
    "\n",
    "from sklearn.linear_model import LinearRegression\n",
    "from sklearn.model_selection import GridSearchCV\n",
    "\n",
    "model= LinearRegression() \n",
    "\n",
    "# define Parameter grid\n",
    "param_grid = {'fit_intercept': [True, False]}\n",
    "\n",
    "# Object grid search cv\n",
    "grid_search = GridSearchCV(model, param_grid, cv=5, scoring='r2')\n",
    "\n",
    "\n",
    "#Train the model\n",
    "grid_search.fit(X,y)\n",
    "\n",
    "# Print the best parameters\n",
    "print(\"Best parameters: \" , grid_search.best_params_)"
   ]
  },
  {
   "cell_type": "code",
   "execution_count": 23,
   "metadata": {},
   "outputs": [
    {
     "data": {
      "text/plain": [
       "Index(['survived', 'pclass', 'sex', 'age', 'sibsp', 'parch', 'fare',\n",
       "       'embarked', 'class', 'who', 'adult_male', 'deck', 'embark_town',\n",
       "       'alive', 'alone'],\n",
       "      dtype='object')"
      ]
     },
     "execution_count": 23,
     "metadata": {},
     "output_type": "execute_result"
    }
   ],
   "source": [
    "df.columns\n"
   ]
  },
  {
   "cell_type": "markdown",
   "metadata": {},
   "source": [
    "# KNN Grid Search Cv"
   ]
  },
  {
   "cell_type": "code",
   "execution_count": 39,
   "metadata": {},
   "outputs": [
    {
     "name": "stdout",
     "output_type": "stream",
     "text": [
      "Best parameters:  {'n_neighbors': 13, 'weights': 'distance'}\n",
      "Best Score:  0.6501937225196988\n"
     ]
    }
   ],
   "source": [
    "# Linear Regression \n",
    "import pandas as pd\n",
    "import seaborn as sns\n",
    "import numpy as np\n",
    "df= sns.load_dataset('titanic')\n",
    "\n",
    "X= df[['pclass', 'sex', 'age', 'sibsp', 'parch', 'fare']]\n",
    "y= df['survived']\n",
    "X = pd.get_dummies(X, columns= ['sex'])\n",
    "X.age.fillna(value= X['age'].mean(), inplace= True)\n",
    "\n",
    "from sklearn.neighbors import KNeighborsClassifier\n",
    "from sklearn.model_selection import GridSearchCV\n",
    "\n",
    "model= KNeighborsClassifier() \n",
    "\n",
    "# define Parameter grid\n",
    "param_grid = {'n_neighbors':np.arange(1,15,2),'weights':[ 'uniform', 'distance']}\n",
    "\n",
    "# Object grid search cv\n",
    "grid_search = GridSearchCV(model, param_grid, cv=5, scoring='precision')\n",
    "\n",
    "\n",
    "#Train the model\n",
    "grid_search.fit(X,y)\n",
    "\n",
    "# Print the best parameters\n",
    "print(\"Best parameters: \" , grid_search.best_params_)\n",
    "print(\"Best Score: \" , grid_search.best_score_)"
   ]
  },
  {
   "cell_type": "markdown",
   "metadata": {},
   "source": [
    "# Decision Tree Classifier"
   ]
  },
  {
   "cell_type": "code",
   "execution_count": 40,
   "metadata": {},
   "outputs": [
    {
     "name": "stdout",
     "output_type": "stream",
     "text": [
      "Best parameters:  {'max_depth': 7, 'min_samples_split': 3}\n",
      "Best Score:  0.8203843687631455\n"
     ]
    }
   ],
   "source": [
    "# Linear Regression \n",
    "import pandas as pd\n",
    "import seaborn as sns\n",
    "import numpy as np\n",
    "df= sns.load_dataset('titanic')\n",
    "\n",
    "X= df[['pclass', 'sex', 'age', 'sibsp', 'parch', 'fare']]\n",
    "y= df['survived']\n",
    "X = pd.get_dummies(X, columns= ['sex'])\n",
    "X.age.fillna(value= X['age'].mean(), inplace= True)\n",
    "\n",
    "from sklearn.tree import DecisionTreeClassifier\n",
    "from sklearn.model_selection import GridSearchCV\n",
    "\n",
    "model= DecisionTreeClassifier() \n",
    "\n",
    "# define Parameter grid\n",
    "param_grid = {'max_depth': [3,5,7, None],'min_samples_split': [2,3,4]}\n",
    "\n",
    "# Object grid search cv\n",
    "grid_search = GridSearchCV(model, param_grid, cv=5, scoring='precision')\n",
    "\n",
    "\n",
    "#Train the model\n",
    "grid_search.fit(X,y)\n",
    "\n",
    "# Print the best parameters\n",
    "print(\"Best parameters: \" , grid_search.best_params_)\n",
    "print(\"Best Score: \" , grid_search.best_score_)"
   ]
  },
  {
   "cell_type": "markdown",
   "metadata": {},
   "source": [
    "# Random Forest "
   ]
  },
  {
   "cell_type": "code",
   "execution_count": 42,
   "metadata": {},
   "outputs": [
    {
     "name": "stdout",
     "output_type": "stream",
     "text": [
      "Best parameters:  {'max_depth': 7, 'max_features': 'log2', 'min_samples_split': 2, 'n_estimators': 100}\n",
      "Best Score:  0.8265665045381816\n"
     ]
    }
   ],
   "source": [
    "# Linear Regression \n",
    "import pandas as pd\n",
    "import seaborn as sns\n",
    "import numpy as np\n",
    "df= sns.load_dataset('titanic')\n",
    "\n",
    "X= df[['pclass', 'sex', 'age', 'sibsp', 'parch', 'fare']]\n",
    "y= df['survived']\n",
    "X = pd.get_dummies(X, columns= ['sex'])\n",
    "X.age.fillna(value= X['age'].mean(), inplace= True)\n",
    "\n",
    "from sklearn.ensemble import RandomForestClassifier\n",
    "from sklearn.model_selection import GridSearchCV\n",
    "\n",
    "model= RandomForestClassifier() \n",
    "\n",
    "# define Parameter grid\n",
    "param_grid = {'n_estimators': [10,50,100],'max_depth': [3,5,7, None],'min_samples_split': [2,3,4],'max_features':['sqrt','log2']}\n",
    "\n",
    "# Object grid search cv\n",
    "grid_search = GridSearchCV(model, param_grid, cv=5, scoring='precision')\n",
    "\n",
    "\n",
    "#Train the model\n",
    "grid_search.fit(X,y)\n",
    "\n",
    "# Print the best parameters\n",
    "print(\"Best parameters: \" , grid_search.best_params_)\n",
    "print(\"Best Score: \" , grid_search.best_score_)"
   ]
  }
 ],
 "metadata": {
  "kernelspec": {
   "display_name": "Python 3",
   "language": "python",
   "name": "python3"
  },
  "language_info": {
   "codemirror_mode": {
    "name": "ipython",
    "version": 3
   },
   "file_extension": ".py",
   "mimetype": "text/x-python",
   "name": "python",
   "nbconvert_exporter": "python",
   "pygments_lexer": "ipython3",
   "version": "3.11.4"
  }
 },
 "nbformat": 4,
 "nbformat_minor": 2
}
