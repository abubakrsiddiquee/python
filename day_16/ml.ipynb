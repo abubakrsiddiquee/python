{
 "cells": [
  {
   "cell_type": "markdown",
   "metadata": {},
   "source": [
    "Machine Learning Types\n",
    "1. Supervise Learning\n",
    "2. UnSupervise Learning\n",
    "3. Semi Supervise Learning\n",
    "4. Reinforcement Lesrning"
   ]
  }
 ],
 "metadata": {
  "language_info": {
   "name": "python"
  }
 },
 "nbformat": 4,
 "nbformat_minor": 2
}
